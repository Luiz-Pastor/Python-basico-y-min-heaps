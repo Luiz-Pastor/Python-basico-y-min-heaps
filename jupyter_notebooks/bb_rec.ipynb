{
  "cells": [
    {
      "cell_type": "code",
      "execution_count": null,
      "metadata": {
        "trusted": true
      },
      "outputs": [],
      "source": [
        "# Incluimos el módulo numpy\n",
        "import numpy as np\n",
        "\n",
        "# Incluimos los módulos necesarios para crear la gráfica\n",
        "import matplotlib.pyplot as plt\n",
        "from scipy.optimize import curve_fit"
      ]
    },
    {
      "cell_type": "code",
      "execution_count": null,
      "metadata": {
        "trusted": true
      },
      "outputs": [],
      "source": [
        "# Función recursiva de búsqueda binaria\n",
        "def rec_bb(t: list, f: int, l: int, key: int):\n",
        "    mid = int((l + f) / 2)\n",
        "    \n",
        "    if t[mid] == key:\n",
        "        return mid\n",
        "    \n",
        "    if l <= f:\n",
        "        return None\n",
        "\n",
        "    elif t[mid] < key:\n",
        "        return rec_bb(t, mid + 1, l, key)\n",
        "    \n",
        "    else:\n",
        "        return rec_bb(t, f, mid - 1, key)"
      ]
    },
    {
      "cell_type": "code",
      "execution_count": null,
      "metadata": {
        "trusted": true
      },
      "outputs": [],
      "source": [
        "# Función para medir los tiempos de la búsqueda binaria\n",
        "def best_time():\n",
        "    l_timings = []\n",
        "    \n",
        "    for i, size in enumerate(range(5, 15)):\n",
        "        t = list(range(2**i * size))\n",
        "        #key = t[-1] # Busca el ultimo elemento\n",
        "        key = t[0] # Busca el primer elemento\n",
        "        timings = %timeit -n 100 -r 10 -o -q rec_bb(t, 0, len(t) - 1, key)\n",
        "        l_timings.append([len(t), timings.best])\n",
        "    a_timings = np.array(l_timings)\n",
        "    return (a_timings)"
      ]
    },
    {
      "cell_type": "code",
      "execution_count": null,
      "metadata": {
        "trusted": true
      },
      "outputs": [],
      "source": [
        "# Guardamos los tiempos en una array numpy\n",
        "a_timings = best_time()"
      ]
    },
    {
      "cell_type": "code",
      "execution_count": null,
      "metadata": {
        "trusted": true
      },
      "outputs": [],
      "source": [
        "# Función para marcar la trayectorai de la función esperada, para así compararla con los datos obtenidos\n",
        "def tofit(x, a, b):\n",
        "    #cambiar f por el codigo Python de la funcion del coste teorico\n",
        "    return a * np.log(x) + b\n",
        "\n",
        "# Cogemos datos del eje x\n",
        "x = a_timings[: , 0]\n",
        "\n",
        "# Cogemos datos del eje y y normalizanos las medidas de segundos (normalizamos con los datos del 4 elemento porque lo previos son extremadamente pequeños, tendiendo a 0)\n",
        "y = a_timings[: , 1]\n",
        "y = y / y[3]\n",
        "\n",
        "pars, _ = curve_fit(tofit, x, y)\n",
        "a, b = pars"
      ]
    },
    {
      "cell_type": "code",
      "execution_count": null,
      "metadata": {},
      "outputs": [],
      "source": [
        "# Creamos la grafica, dando los valores, nombre a los ejes y un titulo\n",
        "plt.plot(x, y, 'ro', label='Datos')\n",
        "plt.plot(x, tofit(x, a, b), label='Ajuste')\n",
        "plt.xlabel(\"Longitud de la lista\")\n",
        "plt.ylabel(\"Tiempo (µs)\")\n",
        "plt.title(\"Busqueda binaria (recursiva)\")\n",
        "\n",
        "# Añadimos la leyenda e imprimimos la gráfica\n",
        "plt.legend()\n",
        "plt.show()"
      ]
    }
  ],
  "metadata": {
    "kernelspec": {
      "display_name": "Python 3",
      "language": "python",
      "name": "python3"
    },
    "language_info": {
      "codemirror_mode": {
        "name": "python",
        "version": 3
      },
      "file_extension": ".py",
      "mimetype": "text/x-python",
      "name": "python",
      "nbconvert_exporter": "python",
      "pygments_lexer": "ipython3",
      "version": "3.10.5"
    }
  },
  "nbformat": 4,
  "nbformat_minor": 4
}
