{
  "cells": [
    {
      "cell_type": "code",
      "execution_count": null,
      "metadata": {
        "trusted": true
      },
      "outputs": [],
      "source": [
        "# Incluimos el módulo numpy\n",
        "import numpy as np\n",
        "\n",
        "# Incluimos los módulos necesarios para crear la gráfica\n",
        "import matplotlib.pyplot as plt\n",
        "from scipy.optimize import curve_fit"
      ]
    },
    {
      "cell_type": "code",
      "execution_count": null,
      "metadata": {
        "trusted": true
      },
      "outputs": [],
      "source": [
        "# Función para medir los tiempos de la multiplicación de matrices\n",
        "def best_time():\n",
        "    l_timings = []\n",
        "    \n",
        "    for i in range(10, 21):\n",
        "        dim = 10+i**2\n",
        "        m = np.random.uniform(0.0, 1.0, size=(dim, dim))\n",
        "        timings = %timeit -o -n 10 -r 5 -q np.dot(m, m)\n",
        "        l_timings.append([dim, timings.best])\n",
        "    return l_timings"
      ]
    },
    {
      "cell_type": "code",
      "execution_count": null,
      "metadata": {
        "trusted": true
      },
      "outputs": [],
      "source": [
        "# Obtenemos mejores tiempos de ejecucion de algunas tandas segun dimensiones variables.\n",
        "l_timigs = best_time()\n",
        "\n",
        "# Convertimos la lista a una numpy array\n",
        "a_timings = np.array(l_timigs)"
      ]
    },
    {
      "cell_type": "code",
      "execution_count": null,
      "metadata": {
        "trusted": true
      },
      "outputs": [],
      "source": [
        "# Función para marcar la trayectorai de la función esperada, para así compararla con los datos obtenidos\n",
        "def tofit(x, a, b):\n",
        "    return a * x**3 + b\n",
        "\n",
        "# Cogemos datos del eje x\n",
        "x = a_timings[: , 0]\n",
        "\n",
        "# Cogemos datos del eje y y normalizanos las medidas de segundos\n",
        "y = a_timings[: , 1]\n",
        "y = y / y[0]\n",
        "\n",
        "pars, _ = curve_fit(tofit, x, y)\n",
        "a, b = pars"
      ]
    },
    {
      "cell_type": "code",
      "execution_count": null,
      "metadata": {
        "trusted": true
      },
      "outputs": [],
      "source": [
        "# Creamos la grafica, dando los valores, nombre a los ejes y un titulo\n",
        "plt.plot(x, y, 'ro', label='Datos')\n",
        "plt.plot(x, tofit(x, a, b), label='Ajuste')\n",
        "plt.xlabel(\"Dimensión de la matriz cuadrada\")\n",
        "plt.ylabel(\"Tiempo (ms)\")\n",
        "plt.title(\"np.dot\")\n",
        "\n",
        "# Añadimos la leyenda e imprimimos la gráfica\n",
        "plt.legend()\n",
        "plt.show()"
      ]
    }
  ],
  "metadata": {
    "kernelspec": {
      "display_name": "Python (Pyodide)",
      "language": "python",
      "name": "python"
    },
    "language_info": {
      "codemirror_mode": {
        "name": "python",
        "version": 3
      },
      "file_extension": ".py",
      "mimetype": "text/x-python",
      "name": "python",
      "nbconvert_exporter": "python",
      "pygments_lexer": "ipython3",
      "version": "3.8"
    }
  },
  "nbformat": 4,
  "nbformat_minor": 4
}
