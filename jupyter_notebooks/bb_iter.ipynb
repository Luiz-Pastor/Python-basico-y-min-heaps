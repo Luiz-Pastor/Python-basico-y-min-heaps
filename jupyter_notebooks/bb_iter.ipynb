{
  "metadata": {
    "language_info": {
      "codemirror_mode": {
        "name": "python",
        "version": 3
      },
      "file_extension": ".py",
      "mimetype": "text/x-python",
      "name": "python",
      "nbconvert_exporter": "python",
      "pygments_lexer": "ipython3",
      "version": "3.8"
    },
    "kernelspec": {
      "name": "python",
      "display_name": "Python (Pyodide)",
      "language": "python"
    }
  },
  "nbformat_minor": 4,
  "nbformat": 4,
  "cells": [
    {
      "cell_type": "code",
      "source": "# Incluimos el módulo numpy\nimport numpy as np\n\n# Incluimos los módulos necesarios para crear la gráfica\nimport matplotlib.pyplot as plt\nfrom scipy.optimize import curve_fit",
      "metadata": {
        "trusted": true
      },
      "execution_count": null,
      "outputs": []
    },
    {
      "cell_type": "code",
      "source": "# Función iterativa de búsqueda binaria\ndef bb(t: list, f: int, l: int, key: int):\n    while l >= f:\n        mid = int((l + f) / 2)\n        if t[mid] == key:\n            return mid\n        elif t[mid] < key:\n            f = mid + 1\n        else:\n            l = mid - 1\n    return None",
      "metadata": {
        "trusted": true
      },
      "execution_count": null,
      "outputs": []
    },
    {
      "cell_type": "code",
      "source": "# Función para medir los tiempos de la búsqueda binaria\ndef best_time():\n    l_timings = []\n    \n    for i, size in enumerate(range(5, 15)):\n        t = list(range(2**i * size))\n        #key = t[-1] # Busca el ultimo elemento\n        key = t[0] # Busca el primer elemento\n        timings = %timeit -n 100 -r 10 -o -q bb(t, 0, len(t) - 1, key)\n        l_timings.append([len(t), timings.best])\n    a_timings = np.array(l_timings)\n    return (a_timings)",
      "metadata": {
        "trusted": true
      },
      "execution_count": null,
      "outputs": []
    },
    {
      "cell_type": "code",
      "source": "# Guardamos los tiempos en una array numpy\na_timings = best_time()",
      "metadata": {
        "trusted": true
      },
      "execution_count": null,
      "outputs": []
    },
    {
      "cell_type": "code",
      "source": "# Función para marcar la trayectorai de la función esperada, para así compararla con los datos obtenidos\ndef tofit(x, a, b):\n    #cambiar f por el codigo Python de la funcion del coste teorico\n    return a * np.log(x) + b\n\n# Cogemos datos del eje x\nx = a_timings[: , 0]\n\n# Cogemos datos del eje y y normalizanos las medidas de segundos (normalizamos con los datos del 4 elemento porque lo previos son extremadamente pequeños, tendiendo a 0)\ny = a_timings[: , 1]\ny = y / y[3]\n\npars, _ = curve_fit(tofit, x, y)\na, b = pars",
      "metadata": {
        "trusted": true
      },
      "execution_count": null,
      "outputs": []
    },
    {
      "cell_type": "code",
      "source": "# Creamos la grafica, dando los valores, nombre a los ejes y un titulo\nplt.plot(x, y, 'ro', label='Datos')\nplt.plot(x, tofit(x, a, b), label='Ajuste')\nplt.xlabel(\"Longitud de la lista\")\nplt.ylabel(\"Tiempo (µs)\")\nplt.title(\"Busqueda binaria (iterativa)\")\n\n# Añadimos la leyenda e imprimimos la gráfica\nplt.legend()\nplt.show()",
      "metadata": {
        "trusted": true
      },
      "execution_count": null,
      "outputs": []
    }
  ]
}