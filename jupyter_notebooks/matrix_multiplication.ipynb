{
  "cells": [
    {
      "cell_type": "code",
      "execution_count": null,
      "metadata": {
        "trusted": true
      },
      "outputs": [],
      "source": [
        "# Incluimos el módulo numpy\n",
        "import numpy as np\n",
        "\n",
        "# Incluimos los módulos necesarios para crear la gráfica\n",
        "import matplotlib.pyplot as plt\n",
        "from scipy.optimize import curve_fit"
      ]
    },
    {
      "cell_type": "code",
      "execution_count": null,
      "metadata": {
        "trusted": true
      },
      "outputs": [],
      "source": [
        "# Función que multiplica matrices, alternatica a np.dot()\n",
        "def matrix_multiplication(m_1: np.ndarray, m_2: np.ndarray)-> np.ndarray:\n",
        "    dim1 = np.shape(m_1)\n",
        "    dim2 = np.shape(m_2)\n",
        "    if dim1[1] != dim2[0]:\n",
        "        return np.array([])\n",
        "    res = np.empty((dim1[0], dim2[1]))\n",
        "    for i in range(dim1[0]):\n",
        "        for j in range(dim2[1]):\n",
        "            res[i][j] = 0\n",
        "            for k in range(dim2[1]):\n",
        "                res[i][j] += m_1[i][k] * m_2[k][j]\n",
        "    return res"
      ]
    },
    {
      "cell_type": "code",
      "execution_count": null,
      "metadata": {
        "trusted": true
      },
      "outputs": [],
      "source": [
        "# Función para medir los tiempos de la multiplicación de matrices con dimensiones variables\n",
        "def best_time()-> list:\n",
        "    l_timings = []\n",
        "    \n",
        "    for i in range(10, 21):\n",
        "        dim = 10+i**2\n",
        "        m = np.random.uniform(0.0, 1.0, size=(dim, dim))\n",
        "        timings = %timeit -o -n 10 -r 5 -q matrix_multiplication(m, m)\n",
        "        l_timings.append([dim, timings.best])\n",
        "    return l_timings"
      ]
    },
    {
      "cell_type": "code",
      "execution_count": null,
      "metadata": {
        "trusted": true
      },
      "outputs": [],
      "source": [
        "# Obtenemos mejores tiempos de ejecucion de algunas tandas segun dimensiones variables.\n",
        "# Este es un procedimiento que puede durar un par de horas; por ello, para observar la gráfica puede descomentar\n",
        "# \tla siguiente linea y comentar la que estaba por defecto:\n",
        "l_timings = [[110, 1.1122900000000016], [131, 1.8884299999999712], [154, 3.0433599999000025], [179, 4.788870000100007], [206, 7.343759999899999], [235, 10.846399999999994], [266, 15.770879999999988], [299, 22.257150000000003], [334, 31.243299999999998], [371, 44.62020999999986], [410, 60.48083999990013]]\n",
        "# l_timings = best_time()\n",
        "\n",
        "# Convertimos la lista a una numpy array\n",
        "a_timings = np.array(l_timings)"
      ]
    },
    {
      "cell_type": "code",
      "execution_count": null,
      "metadata": {
        "trusted": true
      },
      "outputs": [],
      "source": [
        "# Función para marcar la trayectoria de la función esperada (función del coste teórico), para así compararla con los datos obtenidos\n",
        "# Para observar la gráfica con otra posible trayectoria, cambiar el factor que multiplica a la variable 'a' por la fórmula de la nueva gráfica\n",
        "def tofit(x, a, b):\n",
        "    return a * x**3 + b\n",
        "\n",
        "# Cogemos datos del eje 'x'\n",
        "x = a_timings[: , 0]\n",
        "\n",
        "# Cogemos datos del eje 'y' y normalizanos las medidas de segundos\n",
        "y = a_timings[: , 1]\n",
        "y = y / y[0]\n",
        "\n",
        "pars, _ = curve_fit(tofit, x, y)\n",
        "a, b = pars"
      ]
    },
    {
      "cell_type": "code",
      "execution_count": null,
      "metadata": {},
      "outputs": [],
      "source": [
        "# Con todas las medidas, creamos la grafica, dando los valores, nombre a los ejes y un titulo\n",
        "plt.plot(x, y, 'ro', label='Datos')\n",
        "plt.plot(x, tofit(x, a, b), label='Ajuste')\n",
        "plt.xlabel(\"Dimensión de la matriz cuadrada\")\n",
        "plt.ylabel(\"Tiempo (s)\")\n",
        "plt.title(\"matrix_multiplication\")\n",
        "\n",
        "# Añadimos la leyenda e imprimimos la gráfica\n",
        "plt.legend()\n",
        "plt.show()"
      ]
    }
  ],
  "metadata": {
    "kernelspec": {
      "display_name": "Python (Pyodide)",
      "language": "python",
      "name": "python"
    },
    "language_info": {
      "codemirror_mode": {
        "name": "python",
        "version": 3
      },
      "file_extension": ".py",
      "mimetype": "text/x-python",
      "name": "python",
      "nbconvert_exporter": "python",
      "pygments_lexer": "ipython3",
      "version": "3.8"
    }
  },
  "nbformat": 4,
  "nbformat_minor": 4
}
